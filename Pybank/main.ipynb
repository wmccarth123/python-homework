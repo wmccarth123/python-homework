{
 "cells": [
  {
   "cell_type": "code",
   "execution_count": 1,
   "id": "67663ab0-6853-4c16-93fc-46aae511dfd7",
   "metadata": {},
   "outputs": [
    {
     "name": "stdout",
     "output_type": "stream",
     "text": [
      "hello\n"
     ]
    }
   ],
   "source": [
    "print (\"hello\")"
   ]
  },
  {
   "cell_type": "code",
   "execution_count": 4,
   "id": "4e6bd0b3-20e3-4646-b9d8-4a21b7bff988",
   "metadata": {},
   "outputs": [
    {
     "name": "stdout",
     "output_type": "stream",
     "text": [
      "Requirement already satisfied: pathlib in /opt/anaconda3/lib/python3.8/site-packages (1.0.1)\n",
      "Note: you may need to restart the kernel to use updated packages.\n"
     ]
    }
   ],
   "source": [
    "pip install pathlib"
   ]
  },
  {
   "cell_type": "code",
   "execution_count": 20,
   "id": "d7fa45ac-7396-44d5-a949-66ec61bf1ee6",
   "metadata": {},
   "outputs": [],
   "source": [
    "import csv\n",
    "from pathlib import Path"
   ]
  },
  {
   "cell_type": "code",
   "execution_count": 21,
   "id": "cfcd49c7-e066-4139-9e05-e7e7007027b8",
   "metadata": {},
   "outputs": [
    {
     "name": "stdout",
     "output_type": "stream",
     "text": [
      "Current Working Directory: /Users/williammccarthy/Documents/python-homework/Pybank\n"
     ]
    }
   ],
   "source": [
    "print(f\"Current Working Directory: {Path.cwd()}\")"
   ]
  },
  {
   "cell_type": "code",
   "execution_count": 22,
   "id": "8169d173-67c0-4501-9747-c12fbf34cfd4",
   "metadata": {},
   "outputs": [],
   "source": [
    "filepath = Path (\"/Users/williammccarthy/Documents/python-homework/Pybank/budget_data.csv\")"
   ]
  },
  {
   "cell_type": "code",
   "execution_count": 23,
   "id": "781a696c-7da0-426a-9434-c656f7a1f50d",
   "metadata": {},
   "outputs": [
    {
     "name": "stdout",
     "output_type": "stream",
     "text": [
      "Date,Profit/Losses\n",
      "Jan-2010,867884\n",
      "Feb-2010,984655\n",
      "Mar-2010,322013\n",
      "Apr-2010,-69417\n",
      "May-2010,310503\n",
      "Jun-2010,522857\n",
      "Jul-2010,1033096\n",
      "Aug-2010,604885\n",
      "Sep-2010,-216386\n",
      "Oct-2010,477532\n",
      "Nov-2010,893810\n",
      "Dec-2010,-80353\n",
      "Jan-2011,779806\n",
      "Feb-2011,-335203\n",
      "Mar-2011,697845\n",
      "Apr-2011,793163\n",
      "May-2011,485070\n",
      "Jun-2011,584122\n",
      "Jul-2011,62729\n",
      "Aug-2011,668179\n",
      "Sep-2011,899906\n",
      "Oct-2011,834719\n",
      "Nov-2011,132003\n",
      "Dec-2011,309978\n",
      "Jan-2012,-755566\n",
      "Feb-2012,1170593\n",
      "Mar-2012,252788\n",
      "Apr-2012,1151518\n",
      "May-2012,817256\n",
      "Jun-2012,570757\n",
      "Jul-2012,506702\n",
      "Aug-2012,-1022534\n",
      "Sep-2012,475062\n",
      "Oct-2012,779976\n",
      "Nov-2012,144175\n",
      "Dec-2012,542494\n",
      "Jan-2013,359333\n",
      "Feb-2013,321469\n",
      "Mar-2013,67780\n",
      "Apr-2013,471435\n",
      "May-2013,565603\n",
      "Jun-2013,872480\n",
      "Jul-2013,789480\n",
      "Aug-2013,999942\n",
      "Sep-2013,-1196225\n",
      "Oct-2013,268997\n",
      "Nov-2013,-687986\n",
      "Dec-2013,1150461\n",
      "Jan-2014,682458\n",
      "Feb-2014,617856\n",
      "Mar-2014,824098\n",
      "Apr-2014,581943\n",
      "May-2014,132864\n",
      "Jun-2014,448062\n",
      "Jul-2014,689161\n",
      "Aug-2014,800701\n",
      "Sep-2014,1166643\n",
      "Oct-2014,947333\n",
      "Nov-2014,578668\n",
      "Dec-2014,988505\n",
      "Jan-2015,1139715\n",
      "Feb-2015,1029471\n",
      "Mar-2015,687533\n",
      "Apr-2015,-524626\n",
      "May-2015,158620\n",
      "Jun-2015,87795\n",
      "Jul-2015,423389\n",
      "Aug-2015,840723\n",
      "Sep-2015,568529\n",
      "Oct-2015,332067\n",
      "Nov-2015,989499\n",
      "Dec-2015,778237\n",
      "Jan-2016,650000\n",
      "Feb-2016,-1100387\n",
      "Mar-2016,-174946\n",
      "Apr-2016,757143\n",
      "May-2016,445709\n",
      "Jun-2016,712961\n",
      "Jul-2016,-1163797\n",
      "Aug-2016,569899\n",
      "Sep-2016,768450\n",
      "Oct-2016,102685\n",
      "Nov-2016,795914\n",
      "Dec-2016,60988\n",
      "Jan-2017,138230\n",
      "Feb-2017,671099\n",
      "\n"
     ]
    }
   ],
   "source": [
    "with open(filepath, 'r') as file:\n",
    "    text = file.read()\n",
    "    print(text)\n"
   ]
  },
  {
   "cell_type": "code",
   "execution_count": 97,
   "id": "cf932011-adaa-4124-b462-aaafd26a847e",
   "metadata": {},
   "outputs": [],
   "source": [
    "Total_PL = 0\n",
    "Average_Change = [] \n",
    "Previous_row = 0\n",
    "Next_row = 0 \n",
    "row_number = 0 \n",
    "Months = []\n",
    "Total_Months = 0 \n",
    "with open(\"budget_data.csv\") as fin:\n",
    "    csv_reader = csv.reader(fin)\n",
    "    Headers = next(csv_reader)\n",
    "    for row in csv_reader:\n",
    "        Total_Months +=1\n",
    "        Total_PL += int(row[1])\n",
    "        row_number +=1 \n",
    "        if row_number >1:\n",
    "            Previous_row = Next_row \n",
    "            Next_row = int(row[1])\n",
    "            Months.append(row[0])\n",
    "            Average_Change.append(Next_row-Previous_row)\n",
    "        else:\n",
    "            Previous_row = 0 \n",
    "            Next_row = int(row[1])\n",
    "            \n",
    "   "
   ]
  },
  {
   "cell_type": "code",
   "execution_count": 113,
   "id": "98ec0d1b-67b8-4782-a208-451d7afc9f1f",
   "metadata": {},
   "outputs": [],
   "source": [
    "maxindex = Average_Change.index(max(Average_Change))"
   ]
  },
  {
   "cell_type": "code",
   "execution_count": 114,
   "id": "547e875b-9d15-4a91-89e9-5eaac7e9b3ec",
   "metadata": {},
   "outputs": [
    {
     "name": "stdout",
     "output_type": "stream",
     "text": [
      "86\n"
     ]
    }
   ],
   "source": [
    "print(Total_Months)"
   ]
  },
  {
   "cell_type": "code",
   "execution_count": 115,
   "id": "a48cdad8-b255-4040-bace-e8540cfaa488",
   "metadata": {},
   "outputs": [
    {
     "data": {
      "text/plain": [
       "'Feb-2012'"
      ]
     },
     "execution_count": 115,
     "metadata": {},
     "output_type": "execute_result"
    }
   ],
   "source": [
    "Months[24]"
   ]
  },
  {
   "cell_type": "code",
   "execution_count": 116,
   "id": "5cfe9feb-5267-433d-8130-4c5aeee8e8a7",
   "metadata": {},
   "outputs": [],
   "source": [
    "minindex = Average_Change.index(min(Average_Change))"
   ]
  },
  {
   "cell_type": "code",
   "execution_count": 117,
   "id": "1085227d-40a9-4ba2-9992-e5d71a51d638",
   "metadata": {},
   "outputs": [
    {
     "data": {
      "text/plain": [
       "'Sep-2013'"
      ]
     },
     "execution_count": 117,
     "metadata": {},
     "output_type": "execute_result"
    }
   ],
   "source": [
    "Months[43]"
   ]
  },
  {
   "cell_type": "code",
   "execution_count": 118,
   "id": "60aadfb6-b4ce-4dd0-958e-0b6d1fbe9d5f",
   "metadata": {},
   "outputs": [
    {
     "data": {
      "text/plain": [
       "-2196167"
      ]
     },
     "execution_count": 118,
     "metadata": {},
     "output_type": "execute_result"
    }
   ],
   "source": [
    "min(Average_Change)"
   ]
  },
  {
   "cell_type": "code",
   "execution_count": 119,
   "id": "af6ddb4a-a73f-4001-9a48-1f910ef35080",
   "metadata": {},
   "outputs": [
    {
     "data": {
      "text/plain": [
       "-2315.1176470588234"
      ]
     },
     "execution_count": 119,
     "metadata": {},
     "output_type": "execute_result"
    }
   ],
   "source": [
    "sum(Average_Change)/85"
   ]
  },
  {
   "cell_type": "code",
   "execution_count": 120,
   "id": "87d94fdb-ce55-4b22-87eb-0af3836ed97e",
   "metadata": {},
   "outputs": [
    {
     "data": {
      "text/plain": [
       "38382578"
      ]
     },
     "execution_count": 120,
     "metadata": {},
     "output_type": "execute_result"
    }
   ],
   "source": [
    "Total_PL"
   ]
  },
  {
   "cell_type": "code",
   "execution_count": 121,
   "id": "94d08d04-6b6a-4729-b3c2-340b35af83c0",
   "metadata": {},
   "outputs": [
    {
     "name": "stdout",
     "output_type": "stream",
     "text": [
      "Financial Analysis\n",
      "\n",
      "----------------------------\n",
      "\n",
      "Total Months: 86\n",
      "Total: 38382578\n",
      "Average Change: -2315.1176470588234\n",
      "Greatest Increase in Profits: Feb-2012 1926159\n",
      "Decrease Increase in Profits: Sep-2013 -2196167\n"
     ]
    }
   ],
   "source": [
    "print(\"Financial Analysis\\n\")\n",
    "print(\"----------------------------\\n\")\n",
    "print(f'Total Months: {Total_Months}')\n",
    "print (f'Total: {Total_PL}')\n",
    "print (f\"Average Change: {sum(Average_Change)/85}\")\n",
    "print (f'Greatest Increase in Profits: {Months[maxindex]} {max(Average_Change)}')\n",
    "print (f'Decrease Increase in Profits: {Months[minindex]} {min(Average_Change)}')"
   ]
  },
  {
   "cell_type": "code",
   "execution_count": 126,
   "id": "b4ffdd54-55b9-4ce7-9742-171b54969961",
   "metadata": {},
   "outputs": [],
   "source": [
    "\n",
    "Script = \"\"\"Financial Analysis\n",
    "----------------------------\n",
    "Total Months: {}\n",
    "Total: {}\n",
    "Average Change: {}\n",
    "Greatest Increase in Profits: {} {}\n",
    "Decrease Increase in Profits: {} {}\"\"\".format(Total_Months, Total_PL, sum(Average_Change)/85, Months[maxindex],max(Average_Change),Months[minindex],min(Average_Change))"
   ]
  },
  {
   "cell_type": "code",
   "execution_count": 127,
   "id": "789f98cd-0017-4b10-ae6a-7873b230c7d6",
   "metadata": {},
   "outputs": [
    {
     "name": "stdout",
     "output_type": "stream",
     "text": [
      "Financial Analysis\n",
      "----------------------------\n",
      "Total Months: 86\n",
      "Total: 38382578\n",
      "Average Change: -2315.1176470588234\n",
      "Greatest Increase in Profits: Feb-2012 1926159\n",
      "Decrease Increase in Profits: Sep-2013 -2196167\n"
     ]
    }
   ],
   "source": [
    "print(Script)"
   ]
  },
  {
   "cell_type": "code",
   "execution_count": 132,
   "id": "aba9c421-964a-4eff-9ff9-39099bbe7ddc",
   "metadata": {},
   "outputs": [],
   "source": [
    "with open(\"output.txt\", \"w\") as file:\n",
    "    file.write(Script)"
   ]
  },
  {
   "cell_type": "code",
   "execution_count": null,
   "id": "ae532b4a-4b4a-4dd4-a396-71aad2b6d7bf",
   "metadata": {},
   "outputs": [],
   "source": []
  },
  {
   "cell_type": "code",
   "execution_count": null,
   "id": "05e2f975-bde7-41de-8637-28b478908c8a",
   "metadata": {},
   "outputs": [],
   "source": []
  }
 ],
 "metadata": {
  "kernelspec": {
   "display_name": "Python 3",
   "language": "python",
   "name": "python3"
  },
  "language_info": {
   "codemirror_mode": {
    "name": "ipython",
    "version": 3
   },
   "file_extension": ".py",
   "mimetype": "text/x-python",
   "name": "python",
   "nbconvert_exporter": "python",
   "pygments_lexer": "ipython3",
   "version": "3.8.8"
  }
 },
 "nbformat": 4,
 "nbformat_minor": 5
}
